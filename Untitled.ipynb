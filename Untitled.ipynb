{
 "cells": [
  {
   "cell_type": "code",
   "execution_count": 1,
   "id": "7d2cc1ed-0939-44ad-95cc-5632332282f1",
   "metadata": {},
   "outputs": [],
   "source": [
    "import urllib.request\n",
    "import PyPDF2\n",
    "import requests\n",
    "from io import BytesIO\n",
    "from bs4 import BeautifulSoup\n",
    "from bs4.element import Comment\n",
    "import trafilatura\n",
    "import pandas"
   ]
  },
  {
   "cell_type": "code",
   "execution_count": 2,
   "id": "e9e81ea5-33b4-48a6-93ed-dd03b58d9a8a",
   "metadata": {},
   "outputs": [],
   "source": [
    "df = pandas.read_csv(\"./dataset/file.csv\")"
   ]
  },
  {
   "cell_type": "code",
   "execution_count": 3,
   "id": "79104c11-a1a3-4240-9bc4-b8b4baa053a8",
   "metadata": {},
   "outputs": [],
   "source": [
    "def tag_visible(element):\n",
    "        if element.parent.name in ['style', 'script', 'head', 'title', 'header', 'meta', 'footer', '[document]']:\n",
    "            return False\n",
    "        if isinstance(element, Comment):\n",
    "            return False\n",
    "        return True\n",
    "\n",
    "def text_from_html(body):\n",
    "    soup = BeautifulSoup(body, 'html.parser')\n",
    "    texts = soup.find_all(\"main\")\n",
    "    visible_texts = filter(tag_visible, texts)\n",
    "    return u\" \".join(t.strip() for t in visible_texts)\n"
   ]
  },
  {
   "cell_type": "code",
   "execution_count": 4,
   "id": "fea49d3d-562c-4a94-babd-7db00da6556c",
   "metadata": {},
   "outputs": [],
   "source": [
    "for index, row in df.iterrows():\n",
    "    try:\n",
    "        url = row['col2']\n",
    "        if url.lower().endswith(\".pdf\"):\n",
    "            res = requests.get(url)\n",
    "            raw = res.content\n",
    "            text = \"\"\n",
    "            with BytesIO(raw) as data:\n",
    "                pdf_reader = PyPDF2.PdfFileReader(data)\n",
    "                for page in range(pdf_reader.getNumPages()):\n",
    "                    text += pdf_reader.getPage(page).extractText() + '\\n'\n",
    "        else:\n",
    "            dl = trafilatura.fetch_url(url)\n",
    "            text = trafilatura.extract(dl)\n",
    "        f = open(f\"./dataset/text/{row['col1']}.txt\", 'w')\n",
    "        f.write(text)\n",
    "        f.close()\n",
    "    except:\n",
    "        continue"
   ]
  },
  {
   "cell_type": "code",
   "execution_count": 31,
   "id": "8813c648-1745-404e-a37c-2a8ea82ea93d",
   "metadata": {},
   "outputs": [
    {
     "name": "stderr",
     "output_type": "stream",
     "text": [
      "/home/seb/.local/lib/python3.10/site-packages/spacy/pipeline/lemmatizer.py:211: UserWarning: [W108] The rule-based lemmatizer did not find POS annotation for one or more tokens. Check that your pipeline includes components that assign token.pos, typically 'tagger'+'attribute_ruler' or 'morphologizer'.\n",
      "  warnings.warn(Warnings.W108)\n",
      "Created a chunk of size 4894, which is longer than the specified 1600\n",
      "Created a chunk of size 1628, which is longer than the specified 1600\n",
      "Created a chunk of size 2152, which is longer than the specified 1600\n",
      "Created a chunk of size 1807, which is longer than the specified 1600\n",
      "Created a chunk of size 2197, which is longer than the specified 1600\n",
      "Created a chunk of size 2193, which is longer than the specified 1600\n",
      "Created a chunk of size 4502, which is longer than the specified 1600\n",
      "Created a chunk of size 1975, which is longer than the specified 1600\n"
     ]
    },
    {
     "name": "stdout",
     "output_type": "stream",
     "text": [
      "     col1                                               col2\n",
      "0       0  International Development Studies: Major Prepa...\n",
      "1       1  UCLA Scholarship Center | Transfer Students: S...\n",
      "2       2  UCLA Scholarship Center | Transfer Students: $...\n",
      "3       3  UCLA Scholarship Center | Transfer Students: |...\n",
      "4       4  UCLA Scholarship Center | Transfer Students: M...\n",
      "..    ...                                                ...\n",
      "737   737  Academic Resources: If your preferred time slo...\n",
      "738   738  Information for transfer students to UCLA Law:...\n",
      "739   739  Information for transfer students to UCLA Law:...\n",
      "740   740  Information for transfer students to UCLA Law:...\n",
      "741   741  Information for transfer students to UCLA Law:...\n",
      "\n",
      "[742 rows x 2 columns]\n"
     ]
    }
   ],
   "source": [
    "from langchain.text_splitter import SpacyTextSplitter\n",
    "import os\n",
    "\n",
    "text_splitter = SpacyTextSplitter(chunk_size=1600)\n",
    "\n",
    "page_strings = []\n",
    "\n",
    "files = os.listdir(\"./dataset/text\")\n",
    "for file in files:\n",
    "    with open(f\"./dataset/text/{file}\") as data:\n",
    "        text = data.read()\n",
    "        sections = text_splitter.split_text(text)\n",
    "        sections = list(map(lambda f: file[:-4] + \": \" + f, sections))\n",
    "        page_strings.extend(sections)\n",
    "\n",
    "df = pandas.DataFrame(data = {\"col1\": list(range(0, len(page_strings))),\"col2\": page_strings})\n",
    "print(df)\n",
    "df.to_csv(\"./dataset/chunks.csv\")\n",
    "        "
   ]
  },
  {
   "cell_type": "code",
   "execution_count": 38,
   "id": "706445c4-54de-44e8-97cd-6a2404d61f69",
   "metadata": {},
   "outputs": [
    {
     "ename": "NameError",
     "evalue": "name 'pd' is not defined",
     "output_type": "error",
     "traceback": [
      "\u001b[0;31m---------------------------------------------------------------------------\u001b[0m",
      "\u001b[0;31mNameError\u001b[0m                                 Traceback (most recent call last)",
      "Cell \u001b[0;32mIn[38], line 16\u001b[0m\n\u001b[1;32m     13\u001b[0m batch_embeddings \u001b[38;5;241m=\u001b[39m [e\u001b[38;5;241m.\u001b[39membedding \u001b[38;5;28;01mfor\u001b[39;00m e \u001b[38;5;129;01min\u001b[39;00m response\u001b[38;5;241m.\u001b[39mdata]\n\u001b[1;32m     14\u001b[0m embeddings\u001b[38;5;241m.\u001b[39mextend(batch_embeddings)\n\u001b[0;32m---> 16\u001b[0m df2 \u001b[38;5;241m=\u001b[39m \u001b[43mpd\u001b[49m\u001b[38;5;241m.\u001b[39mDataFrame({\u001b[38;5;124m\"\u001b[39m\u001b[38;5;124mtext\u001b[39m\u001b[38;5;124m\"\u001b[39m: page_strings, \u001b[38;5;124m\"\u001b[39m\u001b[38;5;124membeddings\u001b[39m\u001b[38;5;124m\"\u001b[39m: embeddings})\n",
      "\u001b[0;31mNameError\u001b[0m: name 'pd' is not defined"
     ]
    }
   ],
   "source": [
    "from dotenv import load_dotenv\n",
    "import openai\n",
    "\n",
    "load_dotenv()\n",
    "\n",
    "client = openai.OpenAI(api_key=os.getenv('OPENAI_KEY'))\n",
    "\n",
    "embeddings = []\n",
    "\n",
    "response = client.embeddings.create(model=\"text-embedding-3-small\", input=page_strings)\n",
    "for i, be in enumerate(response.data):\n",
    "    assert i == be.index\n",
    "batch_embeddings = [e.embedding for e in response.data]\n",
    "embeddings.extend(batch_embeddings)\n"
   ]
  },
  {
   "cell_type": "code",
   "execution_count": 39,
   "id": "c640bef0-d62c-45ab-8491-2771b5dafa30",
   "metadata": {},
   "outputs": [],
   "source": [
    "df2 = pandas.DataFrame({\"text\": page_strings, \"embeddings\": embeddings})"
   ]
  },
  {
   "cell_type": "code",
   "execution_count": 40,
   "id": "07753a36-711c-4f25-ac5d-f151f1f8481a",
   "metadata": {},
   "outputs": [],
   "source": [
    "df2.to_csv(\"./dataset/embeds.csv\")"
   ]
  }
 ],
 "metadata": {
  "kernelspec": {
   "display_name": "Python 3 (ipykernel)",
   "language": "python",
   "name": "python3"
  },
  "language_info": {
   "codemirror_mode": {
    "name": "ipython",
    "version": 3
   },
   "file_extension": ".py",
   "mimetype": "text/x-python",
   "name": "python",
   "nbconvert_exporter": "python",
   "pygments_lexer": "ipython3",
   "version": "3.10.12"
  }
 },
 "nbformat": 4,
 "nbformat_minor": 5
}
